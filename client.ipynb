{
 "cells": [
  {
   "cell_type": "code",
   "execution_count": 2,
   "metadata": {},
   "outputs": [
    {
     "name": "stdout",
     "output_type": "stream",
     "text": [
      "test\n"
     ]
    }
   ],
   "source": [
    "# basic imports for connecting to coinbase pro and being able to execute trades\n",
    "import pandas as pd\n",
    "import cbpro\n",
    "from auth_credentials import (api_secret, api_key, api_pass)\n",
    "\n",
    "# print('test'); making sure everything imported correctly"
   ]
  },
  {
   "cell_type": "markdown",
   "metadata": {},
   "source": [
    "WebsocketClient Class"
   ]
  },
  {
   "cell_type": "code",
   "execution_count": 3,
   "metadata": {},
   "outputs": [],
   "source": [
    "class TextWebsocketClient(cbpro.WebsocketClient):\n",
    "    def on_open(self):\n",
    "        self.url = 'wss://ws-feed-public.sandbox.exchange.coinbase.com'\n",
    "        self.message_count = 0\n",
    "\n",
    "    def on_message(self,msg):\n",
    "        self.message_count += 1\n",
    "        msg_type = msg.get('type',None)\n",
    "        if msg_type == 'ticker':\n",
    "            time_val = msg.get('time',('-'*27))\n",
    "            price_val = msg.get('price',None)\n",
    "            price_val = float(price_val) if price_val is not None else 'None'\n",
    "            product_id = msg.get('product_id',None)\n",
    "\n",
    "            print(f\"{time_val:30} {price_val: .3f} {product_id}\\tchannel type:{msg_type}\")\n",
    "\n",
    "    def on_close(self):\n",
    "        print(f\"<---Websocket connection closed--->\\n\\tTotal messages: {self.message_count}\")"
   ]
  },
  {
   "cell_type": "code",
   "execution_count": 8,
   "metadata": {},
   "outputs": [
    {
     "name": "stdout",
     "output_type": "stream",
     "text": [
      "---------------------------     16491.180 BTC-USD\tchannel type:ticker\n",
      "---------------------------     0.000 ETH-USD\tchannel type:ticker\n",
      "Connection is already closed. - data: None\n",
      "<---Websocket connection closed--->\n",
      "\tTotal messages: 2\n",
      "Connection is already closed. - data: None\n",
      "<---Websocket connection closed--->\n",
      "\tTotal messages: 2\n",
      "Connection is already closed. - data: None\n",
      "<---Websocket connection closed--->\n",
      "\tTotal messages: 3\n",
      "Connection is already closed. - data: None\n",
      "<---Websocket connection closed--->\n",
      "\tTotal messages: 3\n"
     ]
    }
   ],
   "source": [
    "# stream = TextWebsocketClient(products=['BTC-USD','ETH-USD'],channels=['ticker'])\n",
    "# stream.start()\n",
    "\n",
    "# Trying to test out data stream; not entirely working as expected"
   ]
  },
  {
   "cell_type": "markdown",
   "metadata": {},
   "source": [
    "Client Auth"
   ]
  },
  {
   "cell_type": "code",
   "execution_count": 11,
   "metadata": {},
   "outputs": [],
   "source": [
    "url = 'https://api-public.sandbox.exchange.coinbase.com'\n",
    "client = cbpro.AuthenticatedClient(\n",
    "    api_key,\n",
    "    api_secret,\n",
    "    api_pass,\n",
    "    api_url=url\n",
    ")"
   ]
  },
  {
   "cell_type": "markdown",
   "metadata": {},
   "source": [
    "Placing Market Orders\n"
   ]
  },
  {
   "cell_type": "code",
   "execution_count": 12,
   "metadata": {},
   "outputs": [
    {
     "data": {
      "text/plain": [
       "{'id': '53ecd854-4d01-431b-939a-bb6dfe6107bd',\n",
       " 'product_id': 'BTC-USD',\n",
       " 'side': 'buy',\n",
       " 'stp': 'dc',\n",
       " 'funds': '49.70178926',\n",
       " 'specified_funds': '50',\n",
       " 'type': 'market',\n",
       " 'post_only': False,\n",
       " 'created_at': '2022-12-06T19:03:42.985687Z',\n",
       " 'fill_fees': '0',\n",
       " 'filled_size': '0',\n",
       " 'executed_value': '0',\n",
       " 'status': 'pending',\n",
       " 'settled': False}"
      ]
     },
     "execution_count": 12,
     "metadata": {},
     "output_type": "execute_result"
    }
   ],
   "source": [
    "# testing with market order for now; will likely want to place limits and stops\n",
    "# parameters: size => crypto amount, funds => usd\n",
    "client.place_market_order(product_id='BTC-USD',side='buy',funds=50)\n",
    "\"\"\"\n",
    "returns/prints a dict as follows:\n",
    "{'id': '53ecd854-4d01-431b-939a-bb6dfe6107bd',\n",
    " 'product_id': 'BTC-USD',\n",
    " 'side': 'buy',\n",
    " 'stp': 'dc',\n",
    " 'funds': '49.70178926',\n",
    " 'specified_funds': '50',\n",
    " 'type': 'market',\n",
    " 'post_only': False,\n",
    " 'created_at': '2022-12-06T19:03:42.985687Z',\n",
    " 'fill_fees': '0',\n",
    " 'filled_size': '0',\n",
    " 'executed_value': '0',\n",
    " 'status': 'pending',\n",
    " 'settled': False}\n",
    "\"\"\""
   ]
  },
  {
   "cell_type": "markdown",
   "metadata": {},
   "source": [
    "Account History\n"
   ]
  },
  {
   "cell_type": "code",
   "execution_count": 18,
   "metadata": {},
   "outputs": [
    {
     "name": "stdout",
     "output_type": "stream",
     "text": [
      "3f664e68-3ab2-47ad-a291-37a02e69b9ee\n"
     ]
    }
   ],
   "source": [
    "accounts = client.get_accounts()\n",
    "\n",
    "for acc in accounts:\n",
    "    currency = acc.get('currency')\n",
    "    if currency == 'BTC':\n",
    "        acc_id = acc.get('id')\n",
    "        # print(acc_id)"
   ]
  },
  {
   "cell_type": "code",
   "execution_count": 21,
   "metadata": {},
   "outputs": [],
   "source": [
    "btc_history = client.get_account_history(acc_id)"
   ]
  },
  {
   "cell_type": "code",
   "execution_count": 22,
   "metadata": {},
   "outputs": [
    {
     "name": "stdout",
     "output_type": "stream",
     "text": [
      "{\n",
      " \"id\": \"421436199\",\n",
      " \"amount\": \"0.0050185700000000\",\n",
      " \"balance\": \"0.0050185700000000\",\n",
      " \"created_at\": \"2022-12-06T19:03:43.019582Z\",\n",
      " \"type\": \"match\",\n",
      " \"details\": {\n",
      "  \"order_id\": \"53ecd854-4d01-431b-939a-bb6dfe6107bd\",\n",
      "  \"product_id\": \"BTC-USD\",\n",
      "  \"trade_id\": \"39717525\"\n",
      " }\n",
      "}\n"
     ]
    }
   ],
   "source": [
    "import json\n",
    "\n",
    "# shows trade history in the following format:\n",
    "\"\"\"\n",
    "{\n",
    " \"id\": \"421436199\",\n",
    " \"amount\": \"0.0050185700000000\",\n",
    " \"balance\": \"0.0050185700000000\",\n",
    " \"created_at\": \"2022-12-06T19:03:43.019582Z\",\n",
    " \"type\": \"match\",\n",
    " \"details\": {\n",
    "  \"order_id\": \"53ecd854-4d01-431b-939a-bb6dfe6107bd\",\n",
    "  \"product_id\": \"BTC-USD\",\n",
    "  \"trade_id\": \"39717525\"\n",
    " }\n",
    "\"\"\"\n",
    "# amount is the order amount; balance is the resulting balance in the account\n",
    "for hist in btc_history:\n",
    "    print(json.dumps(hist,indent=1))"
   ]
  }
 ],
 "metadata": {
  "kernelspec": {
   "display_name": "Python 3.9.15 64-bit ('3.9.15')",
   "language": "python",
   "name": "python3"
  },
  "language_info": {
   "codemirror_mode": {
    "name": "ipython",
    "version": 3
   },
   "file_extension": ".py",
   "mimetype": "text/x-python",
   "name": "python",
   "nbconvert_exporter": "python",
   "pygments_lexer": "ipython3",
   "version": "3.9.15"
  },
  "orig_nbformat": 4,
  "vscode": {
   "interpreter": {
    "hash": "64a2e7bf04c21faec7598ef6bafb9ae60ed980816ea6ed2794e156eccc0b541e"
   }
  }
 },
 "nbformat": 4,
 "nbformat_minor": 2
}

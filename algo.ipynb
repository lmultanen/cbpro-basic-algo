{
 "cells": [
  {
   "cell_type": "code",
   "execution_count": 2,
   "metadata": {},
   "outputs": [
    {
     "name": "stdout",
     "output_type": "stream",
     "text": [
      "test\n"
     ]
    }
   ],
   "source": [
    "import sys\n",
    "\n",
    "# if sys.version_info.major == 3 and sys.version_info.minor >= 10:\n",
    "#     print(sys.version_info.minor)\n",
    "#     import collections\n",
    "#     setattr(collections, \"MutableMapping\", collections.abc.MutableMapping)\n",
    "\n",
    "import pandas as pd\n",
    "import cbpro\n",
    "from auth_credentials import (api_secret, api_key, api_pass)\n",
    "\n",
    "print('test')"
   ]
  }
 ],
 "metadata": {
  "kernelspec": {
   "display_name": "Python 3.9.15 64-bit ('3.9.15')",
   "language": "python",
   "name": "python3"
  },
  "language_info": {
   "codemirror_mode": {
    "name": "ipython",
    "version": 3
   },
   "file_extension": ".py",
   "mimetype": "text/x-python",
   "name": "python",
   "nbconvert_exporter": "python",
   "pygments_lexer": "ipython3",
   "version": "3.9.15"
  },
  "orig_nbformat": 4,
  "vscode": {
   "interpreter": {
    "hash": "64a2e7bf04c21faec7598ef6bafb9ae60ed980816ea6ed2794e156eccc0b541e"
   }
  }
 },
 "nbformat": 4,
 "nbformat_minor": 2
}

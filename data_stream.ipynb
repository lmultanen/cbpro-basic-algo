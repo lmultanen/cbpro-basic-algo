{
 "cells": [
  {
   "cell_type": "code",
   "execution_count": null,
   "metadata": {},
   "outputs": [],
   "source": [
    "# imports for being able to view 'live' data\n",
    "import pandas as pd\n",
    "\n",
    "import talib as ta # library for technical analysis\n",
    "\n",
    "import streamz\n",
    "from streamz import Stream\n",
    "from streamz.dataframe import DataFrame\n",
    "\n",
    "import holoviews as hv\n",
    "from holoviews import opts\n",
    "from holoviews.streams import Buffer\n",
    "from holoviews.plotting.links import RangeToolLink\n",
    "\n",
    "from bokeh.models.tools import HoverTool\n",
    "\n",
    "hv.extension('bokeh')\n",
    "\n",
    "# want to import client from respective notebook here\n",
    "# will need to go back in refactor websocket class"
   ]
  },
  {
   "cell_type": "code",
   "execution_count": null,
   "metadata": {},
   "outputs": [],
   "source": [
    "def compute_rsi(vals):\n",
    "    # vals will be a list of pandas Dataframes\n",
    "    rsi_df = pd.concat([df for df in vals])\n",
    "\n",
    "    rsi_series = ta.RSI(rsi_df['price'])\n",
    "\n",
    "    rsi_val = rsi_series[-1]\n",
    "    t_val = rsi_df.index[-1]\n",
    "\n",
    "    return pd.DataFrame({'timestamp':[t_val],'rsi':[rsi_val]}).set_index('timestamp',drop=True)"
   ]
  },
  {
   "cell_type": "markdown",
   "metadata": {},
   "source": [
    "Data Pipeline Setup\n"
   ]
  },
  {
   "cell_type": "code",
   "execution_count": null,
   "metadata": {},
   "outputs": [],
   "source": [
    "source = Stream()\n",
    "\n",
    "\"\"\"\n",
    "Refer to this video later for how to implement/display data in charts: https://www.youtube.com/watch?v=ppzw3K2BSWQ\n",
    "Will come back to this later after reading up on documentation more;\n",
    "for the purposes of this project, I'm more interested in how to use the data than charting it.\n",
    "\n",
    "I will come back and write out some methods for data handling after learning more about how to use it for trading decisions later.\n",
    "\"\"\""
   ]
  }
 ],
 "metadata": {
  "language_info": {
   "name": "python"
  },
  "orig_nbformat": 4
 },
 "nbformat": 4,
 "nbformat_minor": 2
}
